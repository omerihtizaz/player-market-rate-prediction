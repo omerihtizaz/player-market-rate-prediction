{
  "nbformat": 4,
  "nbformat_minor": 0,
  "metadata": {
    "colab": {
      "provenance": []
    },
    "kernelspec": {
      "name": "python3",
      "display_name": "Python 3"
    },
    "language_info": {
      "name": "python"
    }
  },
  "cells": [
    {
      "cell_type": "code",
      "execution_count": null,
      "metadata": {
        "colab": {
          "base_uri": "https://localhost:8080/"
        },
        "id": "Y5zVIiyXq7a3",
        "outputId": "3ff139ee-1397-4dbb-e7ac-81290b13366d"
      },
      "outputs": [
        {
          "output_type": "stream",
          "name": "stdout",
          "text": [
            "Mounted at /content/drive\n"
          ]
        }
      ],
      "source": [
        "from google.colab import drive\n",
        "drive.mount('/content/drive')"
      ]
    },
    {
      "cell_type": "code",
      "source": [
        "import pandas as pd\n",
        "import numpy as np"
      ],
      "metadata": {
        "id": "pboKu3-TrGc3"
      },
      "execution_count": null,
      "outputs": []
    },
    {
      "cell_type": "code",
      "source": [
        "def segregate_position_column(df):\n",
        "  FW = []\n",
        "  DF = []\n",
        "  MF = []\n",
        "  WB = []\n",
        "  for index, row in df.iterrows():\n",
        "      if \"FW\" in row['Pos']:\n",
        "        FW.append(1)\n",
        "      else:\n",
        "        FW.append(0)\n",
        "      if \"DF\" in row['Pos']:\n",
        "        DF.append(1)\n",
        "      else:\n",
        "        DF.append(0)\n",
        "      if \"MF\" in row['Pos']:\n",
        "        MF.append(1)\n",
        "      else:\n",
        "        MF.append(0)\n",
        "      if \"WB\" in row['Pos']:\n",
        "        WB.append(1)\n",
        "      else:\n",
        "        WB.append(0)\n",
        "  df['FW'] = FW\n",
        "  df['MF'] = MF\n",
        "  df['WB'] = WB\n",
        "  df['DF'] = DF\n",
        "  \n",
        "  return df"
      ],
      "metadata": {
        "id": "fNlRp8wCsTIT"
      },
      "execution_count": null,
      "outputs": []
    },
    {
      "cell_type": "code",
      "source": [
        "def encode_data(df):\n",
        "  from sklearn.preprocessing import LabelEncoder\n",
        "  le = LabelEncoder()\n",
        "  df['Player'] = le.fit_transform(df['Player'])\n",
        "  df['Nation'] = le.fit_transform(df['Nation'])\n",
        "  df['Club'] = le.fit_transform(df['Club'])\n",
        "  df['Leauge'] = le.fit_transform(df['Leauge'])\n",
        "  return df"
      ],
      "metadata": {
        "id": "PZzyoTEwscLD"
      },
      "execution_count": null,
      "outputs": []
    },
    {
      "cell_type": "code",
      "source": [
        "def save_data_to_drive(data, path):\n",
        "  data.to_csv(path)"
      ],
      "metadata": {
        "id": "E_mUF5uWsfZL"
      },
      "execution_count": null,
      "outputs": []
    },
    {
      "cell_type": "code",
      "source": [
        "def preprocess_data():\n",
        "  df = pd.read_excel('/content/drive/MyDrive/Player_Soccer_work/data/Final3.xlsx')\n",
        "  df = df.drop('Unnamed: 0', axis = 1)\n",
        "  df = segregate_position_column(df)\n",
        "  df = df.drop('Pos', axis = 1)\n",
        "  df = encode_data(df)\n",
        "  save_data_to_drive(df, '/content/drive/MyDrive/Player_Soccer_work/data/transformed_data.csv')"
      ],
      "metadata": {
        "id": "JK0ZLMDAr9BL"
      },
      "execution_count": null,
      "outputs": []
    }
  ]
}